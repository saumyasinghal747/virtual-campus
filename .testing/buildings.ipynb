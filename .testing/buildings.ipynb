{
 "cells": [
  {
   "cell_type": "markdown",
   "metadata": {
    "collapsed": true,
    "pycharm": {
     "name": "#%% md\n"
    }
   },
   "source": [
    "# Adding Building Names\n",
    "\n",
    "## Step 1 - Initialize Firebase\n",
    "Import credentials from a file and then run `initializeApp()` $x^2$"
   ]
  },
  {
   "cell_type": "code",
   "execution_count": 12,
   "outputs": [
    {
     "ename": "ValueError",
     "evalue": "The default Firebase app already exists. This means you called initialize_app() more than once without providing an app name as the second argument. In most cases you only need to call initialize_app() once. But if you do want to initialize multiple apps, pass a second argument to initialize_app() to give each app a unique name.",
     "output_type": "error",
     "traceback": [
      "\u001B[0;31m---------------------------------------------------------------------------\u001B[0m",
      "\u001B[0;31mValueError\u001B[0m                                Traceback (most recent call last)",
      "\u001B[0;32m<ipython-input-12-738e5b7abf34>\u001B[0m in \u001B[0;36m<module>\u001B[0;34m\u001B[0m\n\u001B[1;32m      5\u001B[0m \u001B[0;34m\u001B[0m\u001B[0m\n\u001B[1;32m      6\u001B[0m default_app = firebase_admin.initialize_app(cred,{\n\u001B[0;32m----> 7\u001B[0;31m     \u001B[0;34m'databaseURL'\u001B[0m\u001B[0;34m:\u001B[0m \u001B[0;34m'https://gunnwebapp.firebaseio.com'\u001B[0m\u001B[0;34m\u001B[0m\u001B[0;34m\u001B[0m\u001B[0m\n\u001B[0m\u001B[1;32m      8\u001B[0m })\n\u001B[1;32m      9\u001B[0m \u001B[0;34m\u001B[0m\u001B[0m\n",
      "\u001B[0;32m~/Library/Python/3.7/lib/python/site-packages/firebase_admin/__init__.py\u001B[0m in \u001B[0;36minitialize_app\u001B[0;34m(credential, options, name)\u001B[0m\n\u001B[1;32m     70\u001B[0m     \u001B[0;32mif\u001B[0m \u001B[0mname\u001B[0m \u001B[0;34m==\u001B[0m \u001B[0m_DEFAULT_APP_NAME\u001B[0m\u001B[0;34m:\u001B[0m\u001B[0;34m\u001B[0m\u001B[0;34m\u001B[0m\u001B[0m\n\u001B[1;32m     71\u001B[0m         raise ValueError((\n\u001B[0;32m---> 72\u001B[0;31m             \u001B[0;34m'The default Firebase app already exists. This means you called '\u001B[0m\u001B[0;34m\u001B[0m\u001B[0;34m\u001B[0m\u001B[0m\n\u001B[0m\u001B[1;32m     73\u001B[0m             \u001B[0;34m'initialize_app() more than once without providing an app name as '\u001B[0m\u001B[0;34m\u001B[0m\u001B[0;34m\u001B[0m\u001B[0m\n\u001B[1;32m     74\u001B[0m             \u001B[0;34m'the second argument. In most cases you only need to call '\u001B[0m\u001B[0;34m\u001B[0m\u001B[0;34m\u001B[0m\u001B[0m\n",
      "\u001B[0;31mValueError\u001B[0m: The default Firebase app already exists. This means you called initialize_app() more than once without providing an app name as the second argument. In most cases you only need to call initialize_app() once. But if you do want to initialize multiple apps, pass a second argument to initialize_app() to give each app a unique name."
     ]
    }
   ],
   "source": [
    "import json\n",
    "from firebase_admin import db, credentials\n",
    "import firebase_admin\n",
    "cred = credentials.Certificate('gunnwebapp-firebase-adminsdk-6kaw3-a349f9d17e.json')\n",
    "\n",
    "default_app = firebase_admin.initialize_app(cred,{\n",
    "    'databaseURL': 'https://gunnwebapp.firebaseio.com'\n",
    "})"
   ],
   "metadata": {
    "collapsed": false,
    "pycharm": {
     "name": "#%%\n"
    }
   }
  },
  {
   "cell_type": "markdown",
   "source": [
    "## Step 2 - Get the data\n",
    "Since the data is organized in an array of 100 &times; 70 cells, we  can loop through\n",
    "them and keep up with moving humans.\n",
    "\n",
    "#### Here's a function set to get the data at a particular cell:"
   ],
   "metadata": {
    "collapsed": false,
    "pycharm": {
     "name": "#%% md\n"
    }
   }
  },
  {
   "cell_type": "code",
   "execution_count": null,
   "outputs": [],
   "source": [
    "def getDataAtCell(x,y):\n",
    "    ref = db.reference('grid/'+str(y)+'/'+str(x),default_app)\n",
    "    return ref.get()\n",
    "\n",
    "def getTypeAtCell(x,y):\n",
    "    data = getDataAtCell(x,y)\n",
    "    return data['type']"
   ],
   "metadata": {
    "collapsed": false,
    "pycharm": {
     "name": "#%%\n"
    }
   }
  },
  {
   "cell_type": "code",
   "execution_count": 1,
   "outputs": [],
   "source": [
    "def identifyBuilding(x,y,type):\n",
    "    if type in ['road','parking']:\n",
    "        return [False, None, None]\n",
    "    # The J Building\n",
    "    if type=='science' and x<7 and y<5:\n",
    "        return [\n",
    "            True,\n",
    "            'J Building',\n",
    "            'This is the science hub of the school. Find the science teachers'\n",
    "            ' and most of your science classes in this building.'\n",
    "        ]\n",
    "    elif type=='language' and y<12:\n",
    "        return [\n",
    "            True,\n",
    "            'H Building',\n",
    "            '''Here's where you'll find world languages such as French, German, Chinese, and Japanese. It's also home to the Language office.'''\n",
    "        ]\n",
    "    elif type=='language':\n",
    "        return [\n",
    "            True,\n",
    "            'Main Office & Bat Cave',\n",
    "            'Have a question? Sick? Confused? Lost? <i>In trouble?</i> This is the place for you.'\n",
    "        ]\n",
    "    elif type=='cefg' and y<12:\n",
    "        return [\n",
    "            True,\n",
    "            'G Building',\n",
    "            'This is where you\\'ll find world languages such as Spanish or French. The computer lab is also here.'\n",
    "        ]\n",
    "    else:\n",
    "        return [False]\n",
    "\n",
    "print(identifyBuilding(3,3,'science'))\n",
    "print(\"hi\")"
   ],
   "metadata": {
    "collapsed": false,
    "pycharm": {
     "name": "#%%\n"
    }
   }
  },
  {
   "cell_type": "markdown",
   "source": [
    "This function should be called sparingly, since it's an API call.\n",
    "\n",
    "#### Now we loop through the cells and get the data for each:"
   ],
   "metadata": {
    "collapsed": false
   }
  },
  {
   "cell_type": "code",
   "source": [
    "#for y in range(5):\n",
    "#    for x in range(5):\n",
    "#        t = getTypeAtCell(x,y)\n",
    "#        print(t)\n"
   ],
   "metadata": {
    "collapsed": false,
    "pycharm": {
     "name": "#%%\n"
    }
   },
   "execution_count": null,
   "outputs": []
  }
 ],
 "metadata": {
  "kernelspec": {
   "name": "pycharm-97247d42",
   "language": "python",
   "display_name": "PyCharm (virtual-campus)"
  },
  "language_info": {
   "codemirror_mode": {
    "name": "ipython",
    "version": 2
   },
   "file_extension": ".py",
   "mimetype": "text/x-python",
   "name": "python",
   "nbconvert_exporter": "python",
   "pygments_lexer": "ipython2",
   "version": "2.7.6"
  }
 },
 "nbformat": 4,
 "nbformat_minor": 0
}